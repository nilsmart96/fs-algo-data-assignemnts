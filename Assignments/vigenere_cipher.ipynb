{
 "cells": [
  {
   "cell_type": "markdown",
   "id": "594a24d8",
   "metadata": {},
   "source": [
    "### Assignment Vigenere Cipher - Nils Marthiensen"
   ]
  },
  {
   "cell_type": "code",
   "execution_count": 1,
   "id": "96d97d77",
   "metadata": {},
   "outputs": [],
   "source": [
    "class Vigenere:\n",
    "    # Store the alphabet (and a space after z) in a variable.\n",
    "    alphabet = \"abcdefghijklmnopqrstuvwxyz \"\n",
    "    # Create a dictionary that assigns a number to each letter. \n",
    "    # This works using \"zip\". It takes the first item in \n",
    "    # \"alphabet\" and maps it to the first item in range (0) etc.\n",
    "    alphabet_to_num = dict(zip(alphabet, range(len(alphabet))))\n",
    "    \n",
    "    def __init__(self, key):\n",
    "        \"\"\"\n",
    "        Initializing the class with a list \n",
    "        containing numbers corresponding to the \n",
    "        letters in the given code-word or -phrase.\n",
    "\n",
    "        :param key: code-word or -phrase\n",
    "        \"\"\"\n",
    "        \n",
    "        self.key_list = []\n",
    "        self.code = key\n",
    "        for letter in key:\n",
    "            self.key_list.append(self.alphabet_to_num[letter])\n",
    "    \n",
    "    def encrypt(self, original):\n",
    "        \"\"\"\n",
    "        Encrypting a message using the key list previously set.\n",
    "\n",
    "        :param original: the message that gets encrypted\n",
    "\n",
    "        :return string: the encrypted version of the message\n",
    "        \"\"\"\n",
    "\n",
    "        encrypted = \"\"\n",
    "        i = 0\n",
    "        while i < len(original):\n",
    "            j = original[i]\n",
    "            k = self.alphabet_to_num[j] + self.key_list[i % len(self.key_list)]\n",
    "            if k > 26:\n",
    "                k -= 27\n",
    "            encrypted += self.alphabet[k]\n",
    "            i += 1\n",
    "        return encrypted\n",
    "\n",
    "    def decrypt(self, encrypted):\n",
    "        \"\"\"\n",
    "        Decrypting a message using the key list previously set.\n",
    "\n",
    "        :param encrypted: the encrypted message that gets decrypted\n",
    "\n",
    "        :return string: the original version of the message\n",
    "        \"\"\"\n",
    "\n",
    "        decrypted = \"\"\n",
    "        i = 0\n",
    "        while i < len(encrypted):\n",
    "            j = encrypted[i]\n",
    "            k = self.alphabet_to_num[j] - self.key_list[i % len(self.key_list)]\n",
    "            if k > 26:\n",
    "                k -= 27\n",
    "            decrypted += self.alphabet[k]\n",
    "            i += 1\n",
    "        return decrypted"
   ]
  },
  {
   "cell_type": "code",
   "execution_count": 2,
   "id": "e1b7e30f",
   "metadata": {},
   "outputs": [],
   "source": [
    "# Test-Code from Canvas\n",
    "v = Vigenere(\"this is the key\")\n",
    "cipher_text = v.encrypt(\"this is the message\")\n",
    "message = v.decrypt(cipher_text)\n",
    "assert(message == \"this is the message\"), \"encrypt, decrypt did not result in same message\""
   ]
  },
  {
   "cell_type": "markdown",
   "id": "8d8b1cff",
   "metadata": {},
   "source": [
    "*Note on time complexity*\n",
    "\n",
    "Each function in the Vigenere class has a time complexity of roughly O(n), because in each function there is one loop that goes through the entire respective input. It is the same for any string, there are no good, bad or average cases."
   ]
  }
 ],
 "metadata": {
  "kernelspec": {
   "display_name": "Python 3.10.4 ('FS_Base')",
   "language": "python",
   "name": "python3"
  },
  "language_info": {
   "codemirror_mode": {
    "name": "ipython",
    "version": 3
   },
   "file_extension": ".py",
   "mimetype": "text/x-python",
   "name": "python",
   "nbconvert_exporter": "python",
   "pygments_lexer": "ipython3",
   "version": "3.10.4"
  },
  "vscode": {
   "interpreter": {
    "hash": "092fd3b47a62a288d64e0d56cb1d943a7dfc85b85fdb59434f57bdf2cec50c7f"
   }
  }
 },
 "nbformat": 4,
 "nbformat_minor": 5
}
